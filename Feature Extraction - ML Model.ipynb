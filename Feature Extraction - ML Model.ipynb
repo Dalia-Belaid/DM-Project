{
 "cells": [
  {
   "cell_type": "code",
   "execution_count": 1,
   "id": "f7f5f437",
   "metadata": {
    "scrolled": true
   },
   "outputs": [],
   "source": [
    "import warnings\n",
    "warnings.simplefilter(action='ignore', category=FutureWarning)\n",
    "\n",
    "from skimage import img_as_float\n",
    "from skimage.metrics import peak_signal_noise_ratio\n",
    "from skimage.filters.rank import entropy\n",
    "from skimage.morphology import disk\n",
    "from matplotlib import pyplot as plt\n",
    "from skimage import io\n",
    "from skimage.filters import sobel\n",
    "from scipy import ndimage as nd\n",
    "\n",
    "import random\n",
    "import seaborn as sns\n",
    "import os\n",
    "import cv2\n",
    "import numpy as np\n",
    "import torch\n",
    "import pandas as pd\n",
    "import glob"
   ]
  },
  {
   "cell_type": "code",
   "execution_count": 2,
   "id": "c21a8db5",
   "metadata": {},
   "outputs": [],
   "source": [
    "train_path='Brain-Tumor/Training/'\n",
    "test_path='Brain-Tumor/Testing/'"
   ]
  },
  {
   "cell_type": "code",
   "execution_count": 3,
   "id": "14f7c54e",
   "metadata": {},
   "outputs": [],
   "source": [
    "image_train=[]\n",
    "lables_train=[]\n",
    "num=0\n",
    "for dir_path in glob.glob(train_path+\"/*\"):\n",
    "    #Label of all the directories in the training directory\n",
    "    label = dir_path.split(\"\\\\\")[-1]\n",
    "    num+=1\n",
    "    for img_path in glob.glob(os.path.join(dir_path, \"*.jpg\")):\n",
    "\n",
    "        img = cv2.imread(img_path, cv2.IMREAD_COLOR) #Reading color images\n",
    "        img = cv2.resize(img, (150, 150)) #Resize images\n",
    "        img = cv2.cvtColor(img, cv2.COLOR_RGB2BGR) #Optional step. Change BGR to RGB\n",
    "        image_train.append(img)\n",
    "        lables_train.append(label)\n",
    "\n",
    "        \n",
    "image_train = np.array(image_train)\n",
    "lables_train = np.array(lables_train)"
   ]
  },
  {
   "cell_type": "code",
   "execution_count": 4,
   "id": "3f71f7d7",
   "metadata": {},
   "outputs": [],
   "source": [
    "image_test=[]\n",
    "lables_test=[]\n",
    "\n",
    "for dir_path in glob.glob(test_path+\"/*\"):\n",
    "    #Label of all the directories in the training directory\n",
    "    label = dir_path.split(\"\\\\\")[-1]\n",
    "    for img_path in glob.glob(os.path.join(dir_path, \"*.jpg\")):\n",
    "        img = cv2.imread(img_path, cv2.IMREAD_COLOR) #Reading color images\n",
    "        img = cv2.resize(img, (150, 150)) #Resize images\n",
    "        img = cv2.cvtColor(img, cv2.COLOR_RGB2BGR) #Optional step. Change BGR to RGB\n",
    "        image_test.append(img)\n",
    "        lables_test.append(label)\n",
    "        \n",
    "        \n",
    "image_test = np.array(image_test)\n",
    "lables_test = np.array(lables_test)"
   ]
  },
  {
   "cell_type": "code",
   "execution_count": 5,
   "id": "2f3442d0",
   "metadata": {},
   "outputs": [],
   "source": [
    "#Encode the labels \n",
    "from sklearn import preprocessing\n",
    "le = preprocessing.LabelEncoder()\n",
    "le.fit(lables_test)\n",
    "test_labels_coded = le.transform(lables_test)\n",
    "le.fit(lables_train)\n",
    "train_labels_coded = le.transform(lables_train)"
   ]
  },
  {
   "cell_type": "code",
   "execution_count": 6,
   "id": "2e41f381",
   "metadata": {},
   "outputs": [],
   "source": [
    "x_train, y_train, x_test, y_test = image_train, train_labels_coded, image_test, test_labels_coded"
   ]
  },
  {
   "cell_type": "code",
   "execution_count": 7,
   "id": "243f6607",
   "metadata": {},
   "outputs": [],
   "source": [
    "# Normalize pixel values to between 0 and 1\n",
    "x_train, x_test = x_train / 255.0, x_test / 255.0"
   ]
  },
  {
   "cell_type": "code",
   "execution_count": 8,
   "id": "56d5f8fc",
   "metadata": {},
   "outputs": [],
   "source": [
    "def FeatureExtractor(dataset):\n",
    "    image_dataset=pd.DataFrame()\n",
    "    #Looping through all the images: x_train.shape[0] contains the size of the dataset.\n",
    "    for image in range(dataset.shape[0]):\n",
    "        #Capturing data for each image\n",
    "        df = pd.DataFrame()\n",
    "        img=dataset[image, :,:,:]\n",
    "    \n",
    "    #Feature Extraction\n",
    "        \n",
    "        #Pixel Value Feature\n",
    "        pix_val= img.reshape(-1)\n",
    "        df['Pixel Value']= pix_val\n",
    "        \n",
    "        #Sobel Feature: Edge Detection Feature\n",
    "        sobel_img=sobel(img)\n",
    "        Sobel1=sobel_img.reshape(-1)\n",
    "        df['Sobel']=Sobel1\n",
    "        \n",
    "        #MEDIAN with sigma=3\n",
    "        median_img = nd.median_filter(img, size=3)\n",
    "        median_img1 = median_img.reshape(-1)\n",
    "        df['Median s3'] = median_img1\n",
    "        \n",
    "        #Gabor Fature \n",
    "        num = 1  #To count numbers up in order to give Gabor features a lable in the data frame\n",
    "        kernels = []\n",
    "        for theta in range(2):   #Define number of thetas\n",
    "            theta = theta / 4. * np.pi\n",
    "            for sigma in (1,2):\n",
    "                for lamda in np.arange(0, np.pi, np.pi/4):\n",
    "                    #for gamma in (0.05,0,5):\n",
    "                    gamma=0.5 \n",
    "                    ksize=9\n",
    "                    kernel = cv2.getGaborKernel((ksize, ksize), sigma, theta, lamda, gamma, 0, ktype=cv2.CV_32F)    \n",
    "                    kernels.append(kernel)\n",
    "\n",
    "                    #Now filter the image and add values to a new column \n",
    "                    fimg = cv2.filter2D(img, cv2.CV_8UC3, kernel)\n",
    "                    filtered_img = fimg.reshape(-1)\n",
    "                    df['Gabor' +str(num)] = filtered_img  #Labels columns as Gabor1, Gabor2, etc.\n",
    "                    num += 1  #Increment for gabor column label\n",
    "\n",
    "\n",
    "        #Append features from current image to the dataset\n",
    "        image_dataset = image_dataset.append(df)        \n",
    "    return image_dataset"
   ]
  },
  {
   "cell_type": "code",
   "execution_count": 9,
   "id": "e644f22f",
   "metadata": {},
   "outputs": [],
   "source": [
    "part1=x_train[0:430]\n",
    "part2=x_train[830:1250]\n",
    "part3=x_train[1650:2030]\n",
    "part4=x_train[2100:2430]"
   ]
  },
  {
   "cell_type": "code",
   "execution_count": 10,
   "id": "4bfebae8",
   "metadata": {},
   "outputs": [],
   "source": [
    "part11=y_train[0:430]\n",
    "part22=y_train[830:1250]\n",
    "part33=y_train[1650:2030]\n",
    "part44=y_train[2100:2430]"
   ]
  },
  {
   "cell_type": "code",
   "execution_count": 11,
   "id": "546b07fe",
   "metadata": {
    "scrolled": true
   },
   "outputs": [],
   "source": [
    "img1=FeatureExtractor(part1)"
   ]
  },
  {
   "cell_type": "code",
   "execution_count": 12,
   "id": "92ebc1a8",
   "metadata": {
    "scrolled": true
   },
   "outputs": [],
   "source": [
    "img2=FeatureExtractor(part2)"
   ]
  },
  {
   "cell_type": "code",
   "execution_count": 13,
   "id": "4b8dd68a",
   "metadata": {
    "scrolled": true
   },
   "outputs": [],
   "source": [
    "img3=FeatureExtractor(part3)"
   ]
  },
  {
   "cell_type": "code",
   "execution_count": 14,
   "id": "22653239",
   "metadata": {
    "scrolled": true
   },
   "outputs": [],
   "source": [
    "img4=FeatureExtractor(part4)"
   ]
  },
  {
   "cell_type": "code",
   "execution_count": 15,
   "id": "6b7d299c",
   "metadata": {},
   "outputs": [],
   "source": [
    "image_features=pd.concat([img1, img2, img3, img4], axis=0)"
   ]
  },
  {
   "cell_type": "code",
   "execution_count": 16,
   "id": "d6b57557",
   "metadata": {
    "scrolled": true
   },
   "outputs": [
    {
     "data": {
      "text/html": [
       "<div>\n",
       "<style scoped>\n",
       "    .dataframe tbody tr th:only-of-type {\n",
       "        vertical-align: middle;\n",
       "    }\n",
       "\n",
       "    .dataframe tbody tr th {\n",
       "        vertical-align: top;\n",
       "    }\n",
       "\n",
       "    .dataframe thead th {\n",
       "        text-align: right;\n",
       "    }\n",
       "</style>\n",
       "<table border=\"1\" class=\"dataframe\">\n",
       "  <thead>\n",
       "    <tr style=\"text-align: right;\">\n",
       "      <th></th>\n",
       "      <th>Pixel Value</th>\n",
       "      <th>Sobel</th>\n",
       "      <th>Median s3</th>\n",
       "      <th>Gabor1</th>\n",
       "      <th>Gabor2</th>\n",
       "      <th>Gabor3</th>\n",
       "      <th>Gabor4</th>\n",
       "      <th>Gabor5</th>\n",
       "      <th>Gabor6</th>\n",
       "      <th>Gabor7</th>\n",
       "      <th>Gabor8</th>\n",
       "      <th>Gabor9</th>\n",
       "      <th>Gabor10</th>\n",
       "      <th>Gabor11</th>\n",
       "      <th>Gabor12</th>\n",
       "      <th>Gabor13</th>\n",
       "      <th>Gabor14</th>\n",
       "      <th>Gabor15</th>\n",
       "      <th>Gabor16</th>\n",
       "    </tr>\n",
       "  </thead>\n",
       "  <tbody>\n",
       "    <tr>\n",
       "      <th>0</th>\n",
       "      <td>0.0</td>\n",
       "      <td>0.0</td>\n",
       "      <td>0.0</td>\n",
       "      <td>0</td>\n",
       "      <td>0</td>\n",
       "      <td>0</td>\n",
       "      <td>0</td>\n",
       "      <td>0</td>\n",
       "      <td>0</td>\n",
       "      <td>0</td>\n",
       "      <td>0</td>\n",
       "      <td>0</td>\n",
       "      <td>0</td>\n",
       "      <td>0</td>\n",
       "      <td>0</td>\n",
       "      <td>0</td>\n",
       "      <td>0</td>\n",
       "      <td>0</td>\n",
       "      <td>0</td>\n",
       "    </tr>\n",
       "    <tr>\n",
       "      <th>1</th>\n",
       "      <td>0.0</td>\n",
       "      <td>0.0</td>\n",
       "      <td>0.0</td>\n",
       "      <td>0</td>\n",
       "      <td>0</td>\n",
       "      <td>0</td>\n",
       "      <td>0</td>\n",
       "      <td>0</td>\n",
       "      <td>0</td>\n",
       "      <td>0</td>\n",
       "      <td>0</td>\n",
       "      <td>0</td>\n",
       "      <td>0</td>\n",
       "      <td>0</td>\n",
       "      <td>0</td>\n",
       "      <td>0</td>\n",
       "      <td>0</td>\n",
       "      <td>0</td>\n",
       "      <td>0</td>\n",
       "    </tr>\n",
       "    <tr>\n",
       "      <th>2</th>\n",
       "      <td>0.0</td>\n",
       "      <td>0.0</td>\n",
       "      <td>0.0</td>\n",
       "      <td>0</td>\n",
       "      <td>0</td>\n",
       "      <td>0</td>\n",
       "      <td>0</td>\n",
       "      <td>0</td>\n",
       "      <td>0</td>\n",
       "      <td>0</td>\n",
       "      <td>0</td>\n",
       "      <td>0</td>\n",
       "      <td>0</td>\n",
       "      <td>0</td>\n",
       "      <td>0</td>\n",
       "      <td>0</td>\n",
       "      <td>0</td>\n",
       "      <td>0</td>\n",
       "      <td>0</td>\n",
       "    </tr>\n",
       "    <tr>\n",
       "      <th>3</th>\n",
       "      <td>0.0</td>\n",
       "      <td>0.0</td>\n",
       "      <td>0.0</td>\n",
       "      <td>0</td>\n",
       "      <td>0</td>\n",
       "      <td>0</td>\n",
       "      <td>0</td>\n",
       "      <td>0</td>\n",
       "      <td>0</td>\n",
       "      <td>0</td>\n",
       "      <td>0</td>\n",
       "      <td>0</td>\n",
       "      <td>0</td>\n",
       "      <td>0</td>\n",
       "      <td>0</td>\n",
       "      <td>0</td>\n",
       "      <td>0</td>\n",
       "      <td>0</td>\n",
       "      <td>0</td>\n",
       "    </tr>\n",
       "    <tr>\n",
       "      <th>4</th>\n",
       "      <td>0.0</td>\n",
       "      <td>0.0</td>\n",
       "      <td>0.0</td>\n",
       "      <td>0</td>\n",
       "      <td>0</td>\n",
       "      <td>0</td>\n",
       "      <td>0</td>\n",
       "      <td>0</td>\n",
       "      <td>0</td>\n",
       "      <td>0</td>\n",
       "      <td>0</td>\n",
       "      <td>0</td>\n",
       "      <td>0</td>\n",
       "      <td>0</td>\n",
       "      <td>0</td>\n",
       "      <td>0</td>\n",
       "      <td>0</td>\n",
       "      <td>0</td>\n",
       "      <td>0</td>\n",
       "    </tr>\n",
       "  </tbody>\n",
       "</table>\n",
       "</div>"
      ],
      "text/plain": [
       "   Pixel Value  Sobel  Median s3  Gabor1  Gabor2  Gabor3  Gabor4  Gabor5  \\\n",
       "0          0.0    0.0        0.0       0       0       0       0       0   \n",
       "1          0.0    0.0        0.0       0       0       0       0       0   \n",
       "2          0.0    0.0        0.0       0       0       0       0       0   \n",
       "3          0.0    0.0        0.0       0       0       0       0       0   \n",
       "4          0.0    0.0        0.0       0       0       0       0       0   \n",
       "\n",
       "   Gabor6  Gabor7  Gabor8  Gabor9  Gabor10  Gabor11  Gabor12  Gabor13  \\\n",
       "0       0       0       0       0        0        0        0        0   \n",
       "1       0       0       0       0        0        0        0        0   \n",
       "2       0       0       0       0        0        0        0        0   \n",
       "3       0       0       0       0        0        0        0        0   \n",
       "4       0       0       0       0        0        0        0        0   \n",
       "\n",
       "   Gabor14  Gabor15  Gabor16  \n",
       "0        0        0        0  \n",
       "1        0        0        0  \n",
       "2        0        0        0  \n",
       "3        0        0        0  \n",
       "4        0        0        0  "
      ]
     },
     "execution_count": 16,
     "metadata": {},
     "output_type": "execute_result"
    }
   ],
   "source": [
    "image_features.head()"
   ]
  },
  {
   "cell_type": "code",
   "execution_count": 17,
   "id": "d35b5273",
   "metadata": {},
   "outputs": [
    {
     "data": {
      "text/plain": [
       "1560"
      ]
     },
     "execution_count": 17,
     "metadata": {},
     "output_type": "execute_result"
    }
   ],
   "source": [
    "X=np.concatenate([part1, part2, part3, part4],axis=0)\n",
    "len(X)"
   ]
  },
  {
   "cell_type": "code",
   "execution_count": 18,
   "id": "15c9bd65",
   "metadata": {},
   "outputs": [],
   "source": [
    "Y=np.concatenate([part11, part22, part33, part44], axis=0)"
   ]
  },
  {
   "cell_type": "code",
   "execution_count": 19,
   "id": "da3ffa1f",
   "metadata": {
    "scrolled": true
   },
   "outputs": [],
   "source": [
    "#Reshape to a vector for SVM training\n",
    "n_features = image_features.shape[1]\n",
    "image_features = np.expand_dims(image_features, axis=0)\n",
    "X_for_RF = np.reshape(image_features, (X.shape[0], -1))  #Reshape to #images, features"
   ]
  },
  {
   "cell_type": "code",
   "execution_count": 20,
   "id": "b5a4c81e",
   "metadata": {},
   "outputs": [],
   "source": [
    "#Define the classifier\n",
    "from sklearn.ensemble import RandomForestClassifier\n",
    "RF_model = RandomForestClassifier(n_estimators = 100, random_state = 42)"
   ]
  },
  {
   "cell_type": "code",
   "execution_count": 21,
   "id": "8edb7169",
   "metadata": {
    "scrolled": true
   },
   "outputs": [
    {
     "data": {
      "text/plain": [
       "RandomForestClassifier(random_state=42)"
      ]
     },
     "execution_count": 21,
     "metadata": {},
     "output_type": "execute_result"
    }
   ],
   "source": [
    "# Fit the model on training data\n",
    "RF_model.fit(X_for_RF, Y) #For sklearn no one hot encoding"
   ]
  },
  {
   "cell_type": "code",
   "execution_count": 22,
   "id": "d35a430c",
   "metadata": {
    "scrolled": true
   },
   "outputs": [],
   "source": [
    "#Predict on Test data\n",
    "#Extract features from test data and reshape, just like training data\n",
    "test_features = FeatureExtractor(x_test)"
   ]
  },
  {
   "cell_type": "code",
   "execution_count": 23,
   "id": "3008ac6b",
   "metadata": {
    "scrolled": true
   },
   "outputs": [],
   "source": [
    "test_features = np.expand_dims(test_features, axis=0)\n",
    "test_for_RF = np.reshape(test_features, (x_test.shape[0], -1))"
   ]
  },
  {
   "cell_type": "code",
   "execution_count": 24,
   "id": "126d64df",
   "metadata": {},
   "outputs": [
    {
     "name": "stdout",
     "output_type": "stream",
     "text": [
      "Accuracy =  0.5939086294416244\n"
     ]
    }
   ],
   "source": [
    "#Predict on test\n",
    "test_prediction = RF_model.predict(test_for_RF)\n",
    "#Inverse le transform to get original label back. \n",
    "test_prediction = le.inverse_transform(test_prediction)\n",
    "\n",
    "#Print overall accuracy\n",
    "from sklearn import metrics\n",
    "print (\"Accuracy = \", metrics.accuracy_score(lables_test, test_prediction))\n"
   ]
  },
  {
   "cell_type": "code",
   "execution_count": 25,
   "id": "7ee3f918",
   "metadata": {},
   "outputs": [
    {
     "name": "stdout",
     "output_type": "stream",
     "text": [
      "F1 Score =  0.4625679723828755\n"
     ]
    }
   ],
   "source": [
    "print (\"F1 Score = \", metrics.f1_score(lables_test, test_prediction, average='macro'))"
   ]
  },
  {
   "cell_type": "code",
   "execution_count": 26,
   "id": "033cb706",
   "metadata": {},
   "outputs": [
    {
     "data": {
      "text/plain": [
       "<AxesSubplot:>"
      ]
     },
     "execution_count": 26,
     "metadata": {},
     "output_type": "execute_result"
    },
    {
     "data": {
      "image/png": "[encoded data removed]",
      "text/plain": [
       "<Figure size 432x432 with 2 Axes>"
      ]
     },
     "metadata": {
      "needs_background": "light"
     },
     "output_type": "display_data"
    }
   ],
   "source": [
    "#Print confusion matrix\n",
    "from sklearn.metrics import confusion_matrix\n",
    "cm = confusion_matrix(lables_test, test_prediction)\n",
    "fig, axe = plt.subplots(figsize=(6,6))# Sample figsize in inches\n",
    "sns.set(font_scale=1.6)\n",
    "sns.heatmap(cm, annot=True, ax=axe)"
   ]
  },
  {
   "cell_type": "code",
   "execution_count": null,
   "id": "040bccd8",
   "metadata": {},
   "outputs": [],
   "source": []
  }
 ],
 "metadata": {
  "kernelspec": {
   "display_name": "Python 3 (ipykernel)",
   "language": "python",
   "name": "python3"
  },
  "language_info": {
   "codemirror_mode": {
    "name": "ipython",
    "version": 3
   },
   "file_extension": ".py",
   "mimetype": "text/x-python",
   "name": "python",
   "nbconvert_exporter": "python",
   "pygments_lexer": "ipython3",
   "version": "3.10.2"
  }
 },
 "nbformat": 4,
 "nbformat_minor": 5
}
